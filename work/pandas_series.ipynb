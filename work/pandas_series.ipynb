{
 "cells": [
  {
   "attachments": {},
   "cell_type": "markdown",
   "metadata": {},
   "source": [
    "# Pandas\n",
    "1. import data to processing\n",
    "2. Processing data: combining, merging, other type of analysis\n",
    "3. Visualizing data: chart, bar, pie\n",
    "4. Create report\n",
    "5. some statistical analysis\n",
    "6. (Advance) some ML (with other help of other libs)\n",
    "\n",
    "#### additional knowledge\n",
    "1. Mean - Average\n",
    "2. Median\n",
    "3. Variance\n",
    "4. Standard Deviation\n",
    "5. Percentiles\n",
    "6. Quartiles"
   ]
  },
  {
   "cell_type": "code",
   "execution_count": 2,
   "metadata": {},
   "outputs": [],
   "source": [
    "import numpy as np\n",
    "import pandas as pd\n",
    "\n",
    "# pip install pandas"
   ]
  },
  {
   "cell_type": "code",
   "execution_count": 44,
   "metadata": {},
   "outputs": [
    {
     "data": {
      "text/plain": [
       "1     2\n",
       "2     4\n",
       "3     5\n",
       "4     6\n",
       "5    84\n",
       "6     0\n",
       "dtype: int64"
      ]
     },
     "execution_count": 44,
     "metadata": {},
     "output_type": "execute_result"
    }
   ],
   "source": [
    "# series_ex = pd.Series([3,5,6,3,7,34,7,8,5,55,4])\n",
    "# series_ex.name = \"Something draft\"\n",
    "# series_ex\n",
    "\n",
    "# variable = value\n",
    "sr = pd.Series([1,2,4,5,6,84,0,22,41,69])\n",
    "# sr = pd.Series([\"quang\", \"Bảo\", \"tuấn\", \"Cường\"])\n",
    "# sr = pd.Series([\"quang\", \"Bảo\",1,4,5, \"tuấn\", \"Cường\"])\n",
    "sr[1:7]"
   ]
  },
  {
   "cell_type": "code",
   "execution_count": 21,
   "metadata": {},
   "outputs": [
    {
     "data": {
      "text/plain": [
       "RangeIndex(start=0, stop=10, step=1)"
      ]
     },
     "execution_count": 21,
     "metadata": {},
     "output_type": "execute_result"
    }
   ],
   "source": [
    "# series_ex.dtype\n",
    "# series_ex.values #similar to numpy\n",
    "# series_ex[0] #callable\n",
    "# # series_ex[-1] #==> error\n",
    "# # series slicing include max and min range\n",
    "# series_ex[-1:] # ==> okay\n",
    "# series_ex.index #infomation about index in series\n",
    "# series_ex.index = [\n",
    "#     \"Nam\",\n",
    "#     \"Kiên\",\n",
    "#     \"Bắc\",\n",
    "#     \"Dự\",\n",
    "#     \"Tuấn\",\n",
    "#     \"Linh\",\n",
    "#     \"Đỗ\",\n",
    "#     \"Long\",\n",
    "#     \"Đức\",\n",
    "#     \"Hồng\",\n",
    "#     \"Sơn\"\n",
    "#     ]\n",
    "# series_ex\n",
    "\n",
    "sr.dtype\n",
    "sr.values\n",
    "sr[8]\n",
    "sr[1:7]\n",
    "sr.iloc[-1]\n",
    "sr.index"
   ]
  },
  {
   "cell_type": "code",
   "execution_count": 61,
   "metadata": {},
   "outputs": [
    {
     "data": {
      "text/plain": [
       "0     1\n",
       "1     2\n",
       "2     4\n",
       "3     5\n",
       "4     6\n",
       "5    84\n",
       "6     0\n",
       "7    22\n",
       "8    41\n",
       "9    69\n",
       "dtype: int64"
      ]
     },
     "execution_count": 61,
     "metadata": {},
     "output_type": "execute_result"
    }
   ],
   "source": [
    "sr_2 = pd.Series({\n",
    "    \"Nam\": 3,\n",
    "    \"Kiên\": 5,\n",
    "    \"Bắc\": 6,\n",
    "    \"Dự\": 3,\n",
    "    \"Tuấn\": 7,\n",
    "    \"Linh\": 34,\n",
    "    \"Đỗ\": 7,\n",
    "    \"Long\": 8,\n",
    "    \"Đức\": 5,\n",
    "    \"Hồng\": 55,\n",
    "    \"Sơn\": 4,\n",
    "})\n",
    "sr"
   ]
  },
  {
   "cell_type": "code",
   "execution_count": 28,
   "metadata": {},
   "outputs": [
    {
     "data": {
      "text/plain": [
       "Nam     3\n",
       "Bắc     6\n",
       "Tuấn    7\n",
       "dtype: int64"
      ]
     },
     "execution_count": 28,
     "metadata": {},
     "output_type": "execute_result"
    }
   ],
   "source": [
    "# # use Series to create a series\n",
    "# series_ex_clone = pd.Series(series_ex, index={\"Nam\", \"Đức\", \"Long\"})\n",
    "# series_ex_clone\n",
    "sr_new = pd.Series(sr, index=[\"Nam\", \"Bắc\", \"Tuấn\"] )\n",
    "sr_new"
   ]
  },
  {
   "cell_type": "code",
   "execution_count": 30,
   "metadata": {},
   "outputs": [
    {
     "data": {
      "text/plain": [
       "3"
      ]
     },
     "execution_count": 30,
     "metadata": {},
     "output_type": "execute_result"
    }
   ],
   "source": [
    "# series_ex_2[\"Nam\"]\n",
    "# series_ex_2[[\"Nam\", \"Long\"]]\n",
    "sr[\"Nam\"]"
   ]
  },
  {
   "cell_type": "code",
   "execution_count": 49,
   "metadata": {},
   "outputs": [
    {
     "data": {
      "text/plain": [
       "1"
      ]
     },
     "execution_count": 49,
     "metadata": {},
     "output_type": "execute_result"
    }
   ],
   "source": [
    "# series_ex_2.iloc[0]\n",
    "# series_ex_2.iloc[-1] # return no error\n",
    "# series_ex_2.iloc[[0,1,2]]\n",
    "\n",
    "# - Loc = location\n",
    "# - iloc = index location\n",
    "\n",
    "sr.iloc[[1,6,7,9]]\n",
    "sr.loc[]\n",
    "sr.iloc[]"
   ]
  },
  {
   "cell_type": "code",
   "execution_count": 57,
   "metadata": {},
   "outputs": [
    {
     "data": {
      "text/plain": [
       "2    4\n",
       "3    5\n",
       "4    6\n",
       "dtype: int64"
      ]
     },
     "execution_count": 57,
     "metadata": {},
     "output_type": "execute_result"
    }
   ],
   "source": [
    "# conditional selection\n",
    "# ~ -> Not\n",
    "# | -> or\n",
    "# & -> and\n",
    "\n",
    "sr[~(sr > 10)]\n",
    "# x > 8 và x < 20\n",
    "sr[(sr > 2) & (sr < 20)]"
   ]
  },
  {
   "cell_type": "code",
   "execution_count": 60,
   "metadata": {},
   "outputs": [
    {
     "data": {
      "text/plain": [
       "30.891206947393083"
      ]
     },
     "execution_count": 60,
     "metadata": {},
     "output_type": "execute_result"
    }
   ],
   "source": [
    "# series_ex_2.mean()\n",
    "# series_ex_2.median()\n",
    "# series_ex_2.var()\n",
    "# series_ex_2.std()\n",
    "\n",
    "sr.mean()\n",
    "sr.var() # variance\n",
    "sr.std() # standard deviation"
   ]
  },
  {
   "cell_type": "code",
   "execution_count": null,
   "metadata": {},
   "outputs": [],
   "source": [
    "series_ex_2[series_ex_2 > series_ex_2.mean()]\n",
    "series_ex_2[(series_ex_2 > 4) & (series_ex_2 < 8)]"
   ]
  },
  {
   "cell_type": "code",
   "execution_count": 63,
   "metadata": {},
   "outputs": [
    {
     "data": {
      "text/plain": [
       "Nam     10\n",
       "Kiên     5\n",
       "Bắc      6\n",
       "Dự       3\n",
       "Tuấn     7\n",
       "Linh    34\n",
       "Đỗ       7\n",
       "Long     8\n",
       "Đức      5\n",
       "Hồng    55\n",
       "Sơn      4\n",
       "dtype: int64"
      ]
     },
     "execution_count": 63,
     "metadata": {},
     "output_type": "execute_result"
    }
   ],
   "source": [
    "# # Modify series\n",
    "# series_ex_2[\"Nam\"] = 10\n",
    "# series_ex_2[-1]\n",
    "# series_ex_2[series_ex_2 < 4] = 5\n",
    "# series_ex_2\n",
    "\n",
    "sr_2[\"Nam\"] = 10\n",
    "sr_2"
   ]
  },
  {
   "cell_type": "code",
   "execution_count": null,
   "metadata": {},
   "outputs": [],
   "source": []
  }
 ],
 "metadata": {
  "kernelspec": {
   "display_name": "Python 3",
   "language": "python",
   "name": "python3"
  },
  "language_info": {
   "codemirror_mode": {
    "name": "ipython",
    "version": 3
   },
   "file_extension": ".py",
   "mimetype": "text/x-python",
   "name": "python",
   "nbconvert_exporter": "python",
   "pygments_lexer": "ipython3",
   "version": "3.11.2"
  },
  "orig_nbformat": 4
 },
 "nbformat": 4,
 "nbformat_minor": 2
}
